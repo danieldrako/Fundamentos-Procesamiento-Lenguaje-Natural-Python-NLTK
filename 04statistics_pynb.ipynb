{
  "nbformat": 4,
  "nbformat_minor": 0,
  "metadata": {
    "colab": {
      "provenance": [],
      "collapsed_sections": [],
      "authorship_tag": "ABX9TyOpd8lNsPF2WVHQjz1fp+Io",
      "include_colab_link": true
    },
    "kernelspec": {
      "name": "python3",
      "display_name": "Python 3"
    },
    "language_info": {
      "name": "python"
    }
  },
  "cells": [
    {
      "cell_type": "markdown",
      "metadata": {
        "id": "view-in-github",
        "colab_type": "text"
      },
      "source": [
        "<a href=\"https://colab.research.google.com/github/danieldrako/Fundamentos-Procesamiento-Lenguaje-Natural-Python-NLTK/blob/main/04statistics_pynb.ipynb\" target=\"_parent\"><img src=\"https://colab.research.google.com/assets/colab-badge.svg\" alt=\"Open In Colab\"/></a>"
      ]
    },
    {
      "cell_type": "markdown",
      "metadata": {
        "id": "DRi6kHk8ECaT"
      },
      "source": [
        "# Configuración inicial\n",
        "\n",
        "* En este notebook vamos a descargar el dataset `book` que contiene muchos libros en ingles en formato de texto tokenizado, de los cuales vamos a hacer procesamiento."
      ]
    },
    {
      "cell_type": "code",
      "execution_count": null,
      "metadata": {
        "id": "4OcgIqXkTgBv",
        "colab": {
          "base_uri": "https://localhost:8080/"
        },
        "outputId": "4c584aed-e3a1-4dc9-cd30-bd76deefeed1"
      },
      "outputs": [
        {
          "output_type": "stream",
          "name": "stderr",
          "text": [
            "[nltk_data] Downloading collection 'book'\n",
            "[nltk_data]    | \n",
            "[nltk_data]    | Downloading package abc to /root/nltk_data...\n",
            "[nltk_data]    |   Unzipping corpora/abc.zip.\n",
            "[nltk_data]    | Downloading package brown to /root/nltk_data...\n",
            "[nltk_data]    |   Unzipping corpora/brown.zip.\n",
            "[nltk_data]    | Downloading package chat80 to /root/nltk_data...\n",
            "[nltk_data]    |   Unzipping corpora/chat80.zip.\n",
            "[nltk_data]    | Downloading package cmudict to /root/nltk_data...\n",
            "[nltk_data]    |   Unzipping corpora/cmudict.zip.\n",
            "[nltk_data]    | Downloading package conll2000 to /root/nltk_data...\n",
            "[nltk_data]    |   Unzipping corpora/conll2000.zip.\n",
            "[nltk_data]    | Downloading package conll2002 to /root/nltk_data...\n",
            "[nltk_data]    |   Unzipping corpora/conll2002.zip.\n",
            "[nltk_data]    | Downloading package dependency_treebank to\n",
            "[nltk_data]    |     /root/nltk_data...\n",
            "[nltk_data]    |   Unzipping corpora/dependency_treebank.zip.\n",
            "[nltk_data]    | Downloading package genesis to /root/nltk_data...\n",
            "[nltk_data]    |   Unzipping corpora/genesis.zip.\n",
            "[nltk_data]    | Downloading package gutenberg to /root/nltk_data...\n",
            "[nltk_data]    |   Unzipping corpora/gutenberg.zip.\n",
            "[nltk_data]    | Downloading package ieer to /root/nltk_data...\n",
            "[nltk_data]    |   Unzipping corpora/ieer.zip.\n",
            "[nltk_data]    | Downloading package inaugural to /root/nltk_data...\n",
            "[nltk_data]    |   Unzipping corpora/inaugural.zip.\n",
            "[nltk_data]    | Downloading package movie_reviews to\n",
            "[nltk_data]    |     /root/nltk_data...\n",
            "[nltk_data]    |   Unzipping corpora/movie_reviews.zip.\n",
            "[nltk_data]    | Downloading package nps_chat to /root/nltk_data...\n",
            "[nltk_data]    |   Unzipping corpora/nps_chat.zip.\n",
            "[nltk_data]    | Downloading package names to /root/nltk_data...\n",
            "[nltk_data]    |   Unzipping corpora/names.zip.\n",
            "[nltk_data]    | Downloading package ppattach to /root/nltk_data...\n",
            "[nltk_data]    |   Unzipping corpora/ppattach.zip.\n",
            "[nltk_data]    | Downloading package reuters to /root/nltk_data...\n",
            "[nltk_data]    | Downloading package senseval to /root/nltk_data...\n",
            "[nltk_data]    |   Unzipping corpora/senseval.zip.\n",
            "[nltk_data]    | Downloading package state_union to /root/nltk_data...\n",
            "[nltk_data]    |   Unzipping corpora/state_union.zip.\n",
            "[nltk_data]    | Downloading package stopwords to /root/nltk_data...\n",
            "[nltk_data]    |   Unzipping corpora/stopwords.zip.\n",
            "[nltk_data]    | Downloading package swadesh to /root/nltk_data...\n",
            "[nltk_data]    |   Unzipping corpora/swadesh.zip.\n",
            "[nltk_data]    | Downloading package timit to /root/nltk_data...\n",
            "[nltk_data]    |   Unzipping corpora/timit.zip.\n",
            "[nltk_data]    | Downloading package treebank to /root/nltk_data...\n",
            "[nltk_data]    |   Unzipping corpora/treebank.zip.\n",
            "[nltk_data]    | Downloading package toolbox to /root/nltk_data...\n",
            "[nltk_data]    |   Unzipping corpora/toolbox.zip.\n",
            "[nltk_data]    | Downloading package udhr to /root/nltk_data...\n",
            "[nltk_data]    |   Unzipping corpora/udhr.zip.\n",
            "[nltk_data]    | Downloading package udhr2 to /root/nltk_data...\n",
            "[nltk_data]    |   Unzipping corpora/udhr2.zip.\n",
            "[nltk_data]    | Downloading package unicode_samples to\n",
            "[nltk_data]    |     /root/nltk_data...\n",
            "[nltk_data]    |   Unzipping corpora/unicode_samples.zip.\n",
            "[nltk_data]    | Downloading package webtext to /root/nltk_data...\n",
            "[nltk_data]    |   Unzipping corpora/webtext.zip.\n",
            "[nltk_data]    | Downloading package wordnet to /root/nltk_data...\n",
            "[nltk_data]    | Downloading package wordnet_ic to /root/nltk_data...\n",
            "[nltk_data]    |   Unzipping corpora/wordnet_ic.zip.\n",
            "[nltk_data]    | Downloading package words to /root/nltk_data...\n",
            "[nltk_data]    |   Unzipping corpora/words.zip.\n",
            "[nltk_data]    | Downloading package maxent_treebank_pos_tagger to\n",
            "[nltk_data]    |     /root/nltk_data...\n",
            "[nltk_data]    |   Unzipping taggers/maxent_treebank_pos_tagger.zip.\n",
            "[nltk_data]    | Downloading package maxent_ne_chunker to\n",
            "[nltk_data]    |     /root/nltk_data...\n",
            "[nltk_data]    |   Unzipping chunkers/maxent_ne_chunker.zip.\n",
            "[nltk_data]    | Downloading package universal_tagset to\n",
            "[nltk_data]    |     /root/nltk_data...\n",
            "[nltk_data]    |   Unzipping taggers/universal_tagset.zip.\n",
            "[nltk_data]    | Downloading package punkt to /root/nltk_data...\n",
            "[nltk_data]    |   Unzipping tokenizers/punkt.zip.\n",
            "[nltk_data]    | Downloading package book_grammars to\n",
            "[nltk_data]    |     /root/nltk_data...\n",
            "[nltk_data]    |   Unzipping grammars/book_grammars.zip.\n",
            "[nltk_data]    | Downloading package city_database to\n",
            "[nltk_data]    |     /root/nltk_data...\n",
            "[nltk_data]    |   Unzipping corpora/city_database.zip.\n",
            "[nltk_data]    | Downloading package tagsets to /root/nltk_data...\n",
            "[nltk_data]    |   Unzipping help/tagsets.zip.\n",
            "[nltk_data]    | Downloading package panlex_swadesh to\n",
            "[nltk_data]    |     /root/nltk_data...\n",
            "[nltk_data]    | Downloading package averaged_perceptron_tagger to\n",
            "[nltk_data]    |     /root/nltk_data...\n",
            "[nltk_data]    |   Unzipping taggers/averaged_perceptron_tagger.zip.\n",
            "[nltk_data]    | \n",
            "[nltk_data]  Done downloading collection book\n"
          ]
        },
        {
          "output_type": "stream",
          "name": "stdout",
          "text": [
            "*** Introductory Examples for the NLTK Book ***\n",
            "Loading text1, ..., text9 and sent1, ..., sent9\n",
            "Type the name of the text or sentence to view it.\n",
            "Type: 'texts()' or 'sents()' to list the materials.\n",
            "text1: Moby Dick by Herman Melville 1851\n",
            "text2: Sense and Sensibility by Jane Austen 1811\n",
            "text3: The Book of Genesis\n",
            "text4: Inaugural Address Corpus\n",
            "text5: Chat Corpus\n",
            "text6: Monty Python and the Holy Grail\n",
            "text7: Wall Street Journal\n",
            "text8: Personals Corpus\n",
            "text9: The Man Who Was Thursday by G . K . Chesterton 1908\n"
          ]
        }
      ],
      "source": [
        "import nltk \n",
        "nltk.download('book')# libros en inglés tokenizados\n",
        "from nltk.book import *\n",
        "import matplotlib.pyplot as plt\n",
        "import numpy as np"
      ]
    },
    {
      "cell_type": "markdown",
      "metadata": {
        "id": "MEFQ7N_OF3W_"
      },
      "source": [
        "# Analizando un texto"
      ]
    },
    {
      "cell_type": "code",
      "source": [
        "text1"
      ],
      "metadata": {
        "colab": {
          "base_uri": "https://localhost:8080/"
        },
        "id": "QuZJTCG7UnG2",
        "outputId": "b44eaae2-a380-4aa3-8f73-1fa54cbbbc07"
      },
      "execution_count": null,
      "outputs": [
        {
          "output_type": "execute_result",
          "data": {
            "text/plain": [
              "<Text: Moby Dick by Herman Melville 1851>"
            ]
          },
          "metadata": {},
          "execution_count": 2
        }
      ]
    },
    {
      "cell_type": "code",
      "source": [
        "text1.tokens[:10]"
      ],
      "metadata": {
        "colab": {
          "base_uri": "https://localhost:8080/"
        },
        "id": "DjR-bg9ZVO4o",
        "outputId": "7adf2c6c-5006-4b53-a339-069b4d19e9b9"
      },
      "execution_count": null,
      "outputs": [
        {
          "output_type": "execute_result",
          "data": {
            "text/plain": [
              "['[',\n",
              " 'Moby',\n",
              " 'Dick',\n",
              " 'by',\n",
              " 'Herman',\n",
              " 'Melville',\n",
              " '1851',\n",
              " ']',\n",
              " 'ETYMOLOGY',\n",
              " '.']"
            ]
          },
          "metadata": {},
          "execution_count": 3
        }
      ]
    },
    {
      "cell_type": "code",
      "source": [
        "len(text1)"
      ],
      "metadata": {
        "colab": {
          "base_uri": "https://localhost:8080/"
        },
        "id": "1pPzeT8UVTtR",
        "outputId": "e3ac9a6a-b984-4ec4-b97d-9aeb73b0f836"
      },
      "execution_count": null,
      "outputs": [
        {
          "output_type": "execute_result",
          "data": {
            "text/plain": [
              "260819"
            ]
          },
          "metadata": {},
          "execution_count": 4
        }
      ]
    },
    {
      "cell_type": "markdown",
      "metadata": {
        "id": "Tm95nIKgJZ0F"
      },
      "source": [
        "## Medida de riqueza lexica en un texto: \n",
        "$$ R_l = \\frac{\\text{total de palabras únicas}}{\\text{total de palabras}} = \\frac{\\text{longitud del vocabulario}}{\\text{longitud del texto}}$$ "
      ]
    },
    {
      "cell_type": "code",
      "metadata": {
        "id": "X3I0r11xIvpz",
        "outputId": "fea4d787-0efb-4c25-e1b3-4f35e2c97d11",
        "colab": {
          "base_uri": "https://localhost:8080/"
        }
      },
      "source": [
        "# Primero realizamos la construcción de un vocabulario (identificamos las palabras unicas que hay en el libro)\n",
        "# https://docs.python.org/2/library/sets.html\n",
        "vocabulario = sorted(set(text1)) #transformamos en conjunto para mostrar una sola vez los resultados\n",
        "vocabulario[1000:1050]\n"
      ],
      "execution_count": null,
      "outputs": [
        {
          "output_type": "execute_result",
          "data": {
            "text/plain": [
              "['Crew',\n",
              " 'Crish',\n",
              " 'Crockett',\n",
              " 'Cross',\n",
              " 'Crossed',\n",
              " 'Crossing',\n",
              " 'Crotch',\n",
              " 'Crowding',\n",
              " 'Crown',\n",
              " 'Crozetts',\n",
              " 'Cruelty',\n",
              " 'Cruising',\n",
              " 'Cruppered',\n",
              " 'Crusaders',\n",
              " 'Crushed',\n",
              " 'Crying',\n",
              " 'Cuba',\n",
              " 'Curious',\n",
              " 'Curse',\n",
              " 'Cursed',\n",
              " 'Curses',\n",
              " 'Cussed',\n",
              " 'Customs',\n",
              " 'Cut',\n",
              " 'Cutter',\n",
              " 'Cutting',\n",
              " 'Cuvier',\n",
              " 'Cyclades',\n",
              " 'Czar',\n",
              " 'D',\n",
              " 'DAGGOO',\n",
              " 'DAM',\n",
              " 'DANCE',\n",
              " 'DANCING',\n",
              " 'DANIEL',\n",
              " 'DANISH',\n",
              " 'DARKENS',\n",
              " 'DARWIN',\n",
              " 'DAVENANT',\n",
              " 'DEAD',\n",
              " 'DEATH',\n",
              " 'DEBELL',\n",
              " 'DECK',\n",
              " 'DEL',\n",
              " 'DESTROYED',\n",
              " 'DEVIL',\n",
              " 'DICTIONARY',\n",
              " 'DID',\n",
              " 'DIGNITY',\n",
              " 'DISCOVERS']"
            ]
          },
          "metadata": {},
          "execution_count": 5
        }
      ]
    },
    {
      "cell_type": "code",
      "metadata": {
        "id": "zIlPOlLdI3wb",
        "outputId": "84080849-d064-4c6d-c489-dfc099781163",
        "colab": {
          "base_uri": "https://localhost:8080/"
        }
      },
      "source": [
        "# luego definimos la medida de riqueza léxica:\n",
        "rl = len(set(text1))/len(text1) #rl = riqueza lexica \n",
        "print(len(vocabulario))\n",
        "print(rl)"
      ],
      "execution_count": null,
      "outputs": [
        {
          "output_type": "stream",
          "name": "stdout",
          "text": [
            "19317\n",
            "0.07406285585022564\n"
          ]
        }
      ]
    },
    {
      "cell_type": "code",
      "metadata": {
        "id": "4KBxRjHQJ2d7",
        "outputId": "067852a4-ac05-4274-bda6-48fdc7700c9a",
        "colab": {
          "base_uri": "https://localhost:8080/"
        }
      },
      "source": [
        "# podemos definir funciones en python para estas medidas léxicas:\n",
        "def riqueza_lexica(texto):\n",
        "  return len(set(texto))/len(texto)\n",
        "\n",
        "def porcentaje_palabra(palabra, texto):  #funcion que retorna el porcentaje de texto que consume  esa palabra en todo el texto \n",
        "  return 100*texto.count(palabra)/len(texto)\n",
        "\n",
        "riqueza_lexica(text1)"
      ],
      "execution_count": null,
      "outputs": [
        {
          "output_type": "execute_result",
          "data": {
            "text/plain": [
              "0.07406285585022564"
            ]
          },
          "metadata": {},
          "execution_count": 7
        }
      ]
    },
    {
      "cell_type": "code",
      "metadata": {
        "id": "VHzRScBFNHbY",
        "outputId": "d692ae2f-94c8-4c15-fdbb-e00f23871d90",
        "colab": {
          "base_uri": "https://localhost:8080/"
        }
      },
      "source": [
        "# podemos calcular el porcentaje de texto que ocupa una palabra en una cadena larga de texto.\n",
        "porcentaje_palabra('monster', text1)"
      ],
      "execution_count": null,
      "outputs": [
        {
          "output_type": "execute_result",
          "data": {
            "text/plain": [
              "0.018786974875296663"
            ]
          },
          "metadata": {},
          "execution_count": 8
        }
      ]
    },
    {
      "cell_type": "code",
      "metadata": {
        "id": "lLvrh39wPRBz",
        "outputId": "bbc83a04-559e-4ae4-df52-521b05825507",
        "colab": {
          "base_uri": "https://localhost:8080/"
        }
      },
      "source": [
        "# y calcular en conteo el numero de veces que aparece:\n",
        "text1.count('monster')"
      ],
      "execution_count": null,
      "outputs": [
        {
          "output_type": "execute_result",
          "data": {
            "text/plain": [
              "49"
            ]
          },
          "metadata": {},
          "execution_count": 9
        }
      ]
    },
    {
      "cell_type": "markdown",
      "metadata": {
        "id": "Y-CMwKBzMGmK"
      },
      "source": [
        "# Estadistica del Lenguaje\n",
        "\n",
        "Los cálculos estadísticos más simples que se pueden efectuar sobre un texto o un corpus son los relacionados con frecuencia de aparición de palabras.\n",
        "\n",
        "* Podemos construir un diccionario en Python donde las llaves sean las palabras y los valores sean las frecuencias de ocurrencias de esas palabras.\n",
        "\n",
        "* ejemplo `dic = {'monster': 49 ,  'boat': 54,  ...}`\n"
      ]
    },
    {
      "cell_type": "code",
      "source": [
        "# METODO NO recomendable para conjuntos muy grandes\n",
        "dic = {}\n",
        "for palabra in set(text1):\n",
        "  #dic[palabra] = porcentaje_palabra(palabra, text1)\n",
        "  dic[palabra] = text1.count(palabra)\n",
        "dic"
      ],
      "metadata": {
        "id": "PPPZfhE2XcJF"
      },
      "execution_count": null,
      "outputs": []
    },
    {
      "cell_type": "markdown",
      "metadata": {
        "id": "5eWzHWyAy-5B"
      },
      "source": [
        "## Método FreqDist de NLTK"
      ]
    },
    {
      "cell_type": "code",
      "metadata": {
        "id": "Gu8q9plGNnA_",
        "colab": {
          "base_uri": "https://localhost:8080/"
        },
        "outputId": "680703a8-0819-4984-b43f-43e89b32e800"
      },
      "source": [
        "# NLTK tiene un metodo muy eficiente\n",
        "fdist = FreqDist(text1) # crea una objeto con los tokens y la cantidad de veces que aparece cada  token\n",
        "type(fdist)"
      ],
      "execution_count": null,
      "outputs": [
        {
          "output_type": "execute_result",
          "data": {
            "text/plain": [
              "nltk.probability.FreqDist"
            ]
          },
          "metadata": {},
          "execution_count": 11
        }
      ]
    },
    {
      "cell_type": "code",
      "metadata": {
        "id": "QPGzPWe2OmJf",
        "outputId": "bd3daf7e-5710-4fdb-849a-ecd1119eba0a",
        "colab": {
          "base_uri": "https://localhost:8080/"
        }
      },
      "source": [
        "fdist.most_common(20) #top 20 tokens que mas se repiten"
      ],
      "execution_count": null,
      "outputs": [
        {
          "output_type": "execute_result",
          "data": {
            "text/plain": [
              "[(',', 18713),\n",
              " ('the', 13721),\n",
              " ('.', 6862),\n",
              " ('of', 6536),\n",
              " ('and', 6024),\n",
              " ('a', 4569),\n",
              " ('to', 4542),\n",
              " (';', 4072),\n",
              " ('in', 3916),\n",
              " ('that', 2982),\n",
              " (\"'\", 2684),\n",
              " ('-', 2552),\n",
              " ('his', 2459),\n",
              " ('it', 2209),\n",
              " ('I', 2124),\n",
              " ('s', 1739),\n",
              " ('is', 1695),\n",
              " ('he', 1661),\n",
              " ('with', 1659),\n",
              " ('was', 1632)]"
            ]
          },
          "metadata": {},
          "execution_count": 12
        }
      ]
    },
    {
      "cell_type": "code",
      "metadata": {
        "id": "fPCV9UqyOrpt",
        "outputId": "b3c156bc-328d-418d-a52d-bd647407fd5f",
        "colab": {
          "base_uri": "https://localhost:8080/",
          "height": 308
        }
      },
      "source": [
        "fdist.plot(20) # grafica las distribuciones "
      ],
      "execution_count": null,
      "outputs": [
        {
          "output_type": "display_data",
          "data": {
            "text/plain": [
              "<Figure size 432x288 with 1 Axes>"
            ],
            "image/png": "[encoded data removed]"
          },
          "metadata": {
            "needs_background": "light"
          }
        },
        {
          "output_type": "execute_result",
          "data": {
            "text/plain": [
              "<matplotlib.axes._subplots.AxesSubplot at 0x7fc829e59890>"
            ]
          },
          "metadata": {},
          "execution_count": 14
        }
      ]
    },
    {
      "cell_type": "code",
      "metadata": {
        "id": "V95L5wo4OzAJ",
        "outputId": "d9800564-b804-472f-eb20-39be75db50ce",
        "colab": {
          "base_uri": "https://localhost:8080/"
        }
      },
      "source": [
        "fdist['monster']#numero de veces que una palabra se repite"
      ],
      "execution_count": null,
      "outputs": [
        {
          "output_type": "execute_result",
          "data": {
            "text/plain": [
              "49"
            ]
          },
          "metadata": {},
          "execution_count": 15
        }
      ]
    },
    {
      "cell_type": "markdown",
      "metadata": {
        "id": "QIv6TflAzEyi"
      },
      "source": [
        "## Distribuciones sobre contenido con filtro-fino\n",
        "\n",
        "* Como vimos en la sección anterior, los tokens más frecuentes en un texto no son necesariamente las palabras que mas informacion nos arrojan sobre el contenido del mismo. \n",
        "* Por ello, es mejor filtrar y construir distribuciones de frecuencia que no consideren signos de puntuación o caracteres especiales"
      ]
    },
    {
      "cell_type": "code",
      "source": [
        "long_words = [ palabra for palabra in text1 if len(palabra)>5] #tokens que tienen una longitud mayor a 5\n",
        "vocabulario_filtrado = sorted(set(long_words))\n",
        "vocabulario_filtrado[:10]"
      ],
      "metadata": {
        "colab": {
          "base_uri": "https://localhost:8080/"
        },
        "id": "f3Y9xcEEaIhI",
        "outputId": "57989a75-ecff-4ca4-825a-ee2a88329baa"
      },
      "execution_count": null,
      "outputs": [
        {
          "output_type": "execute_result",
          "data": {
            "text/plain": [
              "['ACCOUNT',\n",
              " 'ADDITIONAL',\n",
              " 'ADVANCING',\n",
              " 'ADVENTURES',\n",
              " 'AFFGHANISTAN',\n",
              " 'AFRICA',\n",
              " 'AGAINST',\n",
              " 'ALFRED',\n",
              " 'ALGERINE',\n",
              " 'AMERICA']"
            ]
          },
          "metadata": {},
          "execution_count": 20
        }
      ]
    },
    {
      "cell_type": "markdown",
      "metadata": {
        "id": "PKRWasT60Dmm"
      },
      "source": [
        "Podemos ahora construir una lista de tuplas, basados en los conteos ya pre-calculados de la función `FreqDist`, así:\n",
        "\n",
        "`fdist_filtrado = [('account', 2), ('additional', 32), ('advancing', 5), ...]`\n",
        "\n",
        "Luego podemos convertir el objeto creado a formato de `np.array`de **Numpy** para poder hacer un sort por palabras mas frecuentes.\n",
        "\n",
        "`fdist_filtrado = np.array(fdist_filtrado, *args)`\n",
        "\n",
        "`np.sort(fdist_filtrado, *args) = [('account', 2), ('advancing', 5), ('additional', 32), ...]`"
      ]
    },
    {
      "cell_type": "code",
      "source": [
        "palabras_interesantes = [(palabra,fdist[palabra]) for palabra in set(text1) if len(palabra)>5 and fdist[palabra]>10]\n",
        "len(palabras_interesantes)"
      ],
      "metadata": {
        "colab": {
          "base_uri": "https://localhost:8080/"
        },
        "id": "tOlLve26b7Ei",
        "outputId": "b2b085dc-00e1-424f-dae3-85b2201f385a"
      },
      "execution_count": null,
      "outputs": [
        {
          "output_type": "execute_result",
          "data": {
            "text/plain": [
              "957"
            ]
          },
          "metadata": {},
          "execution_count": 32
        }
      ]
    },
    {
      "cell_type": "code",
      "source": [
        "dtypes = [('word', 'S10'), ('frequency', int)] #dtypes es un objeto que dice como numpy debe interpretar los datos la primera tupla es un string y el formato S10 y la segunda debe ser un entero por la frecuencia\n",
        "palabras_interesantes = np.array(palabras_interesantes, dtype = dtypes)\n"
      ],
      "metadata": {
        "id": "4PwvmrQTdIb2"
      },
      "execution_count": null,
      "outputs": []
    },
    {
      "cell_type": "code",
      "source": [
        "palabras_interesantes = np.sort(palabras_interesantes, order = 'frequency')\n",
        "palabras_interesantes"
      ],
      "metadata": {
        "id": "S-xDh5_uek68"
      },
      "execution_count": null,
      "outputs": []
    },
    {
      "cell_type": "code",
      "source": [
        "top_words = 20\n",
        "x = np.arange(len(palabras_interesantes[-top_words:]))\n",
        "y = [freq[1] for freq in palabras_interesantes[-top_words:]]\n",
        "plt.figure(figsize=(10,5))\n",
        "plt.plot(x,y)#grafica dos variables\n",
        "plt.xticks(x,[str(freq[0]) for freq in palabras_interesantes[-top_words:]], rotation=75)\n",
        "plt.grid(True)\n",
        "plt.show"
      ],
      "metadata": {
        "colab": {
          "base_uri": "https://localhost:8080/",
          "height": 392
        },
        "id": "bvYHruEIfaNi",
        "outputId": "baa96321-41bf-4260-dd47-d6f52b290011"
      },
      "execution_count": null,
      "outputs": [
        {
          "output_type": "execute_result",
          "data": {
            "text/plain": [
              "<function matplotlib.pyplot.show(*args, **kw)>"
            ]
          },
          "metadata": {},
          "execution_count": 40
        },
        {
          "output_type": "display_data",
          "data": {
            "text/plain": [
              "<Figure size 720x360 with 1 Axes>"
            ],
            "image/png": "[encoded data removed]"
          },
          "metadata": {
            "needs_background": "light"
          }
        }
      ]
    },
    {
      "cell_type": "code",
      "source": [],
      "metadata": {
        "id": "LvOgxH5Se9LO"
      },
      "execution_count": null,
      "outputs": []
    }
  ]
}